{
 "cells": [
  {
   "cell_type": "code",
   "execution_count": 1,
   "metadata": {},
   "outputs": [],
   "source": [
    "import numpy as np\n",
    "import pandas as pd\n",
    "import matplotlib.pyplot as plt"
   ]
  },
  {
   "cell_type": "code",
   "execution_count": 22,
   "metadata": {},
   "outputs": [],
   "source": [
    "# Analyzing the effects of hurryup\n",
    "\n",
    "# Java frames @ 2 ms - Energy (Heavy Requests)\n",
    "energy2ms_hup5ms = 50015239514\n",
    "energy2ms_hup10ms = 49106068075\n",
    "energy2ms_hup20ms = 48562098154\n",
    "energy2ms_hup50ms = 49352490296\n",
    "\n",
    "# Java frames @ 2 ms - Time at 2.6ghz\n",
    "tstate2ms_hup5ms = 840\n",
    "tstate2ms_hup10ms = 888\n",
    "tstate2ms_hup20ms = 685\n",
    "tstate2ms_hup50ms = 1205\n",
    "\n",
    "# Java frames @ 5 ms - Energy (Heavy Requests)\n",
    "energy2ms_hup5ms = 48557650534\n",
    "energy2ms_hup10ms = 49319940940\n",
    "#energy2ms_hup20ms = 48562098154\n",
    "energy2ms_hup50ms = 49628355984\n",
    "\n",
    "# Java frames @ 5 ms - Time at 2.6ghz\n",
    "tstate5ms_hup5ms = 517\n",
    "tstate5ms_hup10ms = 1132\n",
    "tstate5ms_hup20ms = 818\n",
    "tstate5ms_hup50ms = 1199\n",
    "\n",
    "# Java frames @ 10 ms - Energy (Heavy Requests)\n",
    "#energy10ms_hup5ms = 48040263308\n",
    "energy10ms_hup10ms = 47882747232\n",
    "energy10ms_hup20ms = 43603581856\n",
    "energy10ms_hup50ms = 47864305934\n",
    "\n",
    "# Java frames @ 10 ms - Time at 2.6ghz\n",
    "tstate10ms_hup5ms = 426\n",
    "tstate10ms_hup10ms = 595\n",
    "tstate10ms_hup20ms = 0\n",
    "tstate10ms_hup50ms = 481\n"
   ]
  },
  {
   "cell_type": "code",
   "execution_count": null,
   "metadata": {},
   "outputs": [],
   "source": []
  },
  {
   "cell_type": "code",
   "execution_count": null,
   "metadata": {},
   "outputs": [],
   "source": []
  },
  {
   "cell_type": "code",
   "execution_count": null,
   "metadata": {},
   "outputs": [],
   "source": []
  },
  {
   "cell_type": "code",
   "execution_count": null,
   "metadata": {},
   "outputs": [],
   "source": []
  },
  {
   "cell_type": "code",
   "execution_count": null,
   "metadata": {},
   "outputs": [],
   "source": []
  }
 ],
 "metadata": {
  "kernelspec": {
   "display_name": "Python 3",
   "language": "python",
   "name": "python3"
  },
  "language_info": {
   "codemirror_mode": {
    "name": "ipython",
    "version": 3
   },
   "file_extension": ".py",
   "mimetype": "text/x-python",
   "name": "python",
   "nbconvert_exporter": "python",
   "pygments_lexer": "ipython3",
   "version": "3.6.5"
  }
 },
 "nbformat": 4,
 "nbformat_minor": 4
}
